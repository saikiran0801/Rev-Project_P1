{
 "cells": [
  {
   "cell_type": "markdown",
   "id": "1f47ba68-e50d-48cd-8cdf-b764bd173dcd",
   "metadata": {},
   "source": [
    "Data Generation"
   ]
  },
  {
   "cell_type": "code",
   "execution_count": 1,
   "id": "9f221549-9904-4b17-a831-925cf724ae21",
   "metadata": {},
   "outputs": [],
   "source": [
    "# Importing the 'random' module, which provides functions to generate random numbers, shuffle data, and make random selections.\n",
    "import random\n",
    "\n",
    "# Importing the 'Faker' class from the 'faker' library, which allows the generation of fake data such as names, addresses, emails, and more.\n",
    "from faker import Faker\n",
    "\n",
    "# Initialize Faker instance\n",
    "fake = Faker()\n",
    "\n",
    "# Predefined data\n",
    "data = {\n",
    "    'payment_types': ['Card', 'Internet Banking', 'UPI', 'Wallet'],\n",
    "    'countries': ['USA', 'UK', 'Germany', 'India', 'Canada'],\n",
    "    'categories': ['Electronics', 'Clothing', 'Home & Kitchen', 'Books', 'Sports'],\n",
    "    'sites': ['Amazon', 'eBay', 'Flipkart', 'Walmart', 'Shopify'],\n",
    "    'payment_status': ['Y', 'N'],\n",
    "    'failure_reasons': ['Insufficient funds', 'Payment gateway error', 'Card expired', None],\n",
    "    'product_name': [\n",
    "        \"Milk\", \"Bread\", \"Coffee\", \"Eggs\", \"Juice\", \"Toothpaste\", \"Shampoo\", \"Soap\", \"Deodorant\", \n",
    "        \"Lotion\", \"Detergent\", \"Trash Bags\", \"Paper Towels\", \"Cleaning Spray\", \"Light Bulbs\", \n",
    "        \"Smartphones\", \"Laptops\", \"Headphones\", \"Chargers\", \"Batteries\", \"Gasoline\",\n",
    "        \"Car Maintenance Products (e.g., motor oil)\", \"Public Transport Cards\", \"Pens\", \"Notebooks\",\n",
    "        \"Printer Paper\", \"Sticky Notes\", \"Stapler\", \"Hand Sanitizer\", \"Tissues\", \"Aluminum Foil\",\n",
    "        # Additional product names here...\n",
    "    ]\n",
    "}\n",
    "\n",
    "# Function to generate a single record\n",
    "def generate_record():\n",
    "    payment_success = random.choice(data['payment_status'])\n",
    "    return {\n",
    "        'Order Id': fake.uuid4(),\n",
    "        'Customer Id': fake.uuid4(),\n",
    "        'Customer Name': fake.name(),\n",
    "        'Product Id': fake.uuid4(),\n",
    "        'Product Name': random.choice(data['product_name']),\n",
    "        'Product Category': random.choice(data['categories']),\n",
    "        'Payment Type': random.choice(data['payment_types']),\n",
    "        'Quantity ordered': random.randint(1, 5),\n",
    "        'Price': round(random.uniform(10, 1000), 2),\n",
    "        'Date and time when order was placed': fake.date_time_this_decade(),\n",
    "        'Customer Country': random.choice(data['countries']),\n",
    "        'Customer City': fake.city(),\n",
    "        'Site from where order was placed': random.choice(data['sites']),\n",
    "        'Payment Transaction Confirmation Id': fake.uuid4(),\n",
    "        'Payment Success or Failure': payment_success,\n",
    "        'Reason for payment failure': random.choice(data['failure_reasons']) if payment_success == 'N' else None\n",
    "    } "
   ]
  },
  {
   "cell_type": "code",
   "execution_count": 2,
   "id": "c306ba6e-0c07-4bb6-9d6e-44f5ba08fb37",
   "metadata": {},
   "outputs": [],
   "source": [
    "# Importing the 'csv' module, which provides functionality to read from and write to CSV (Comma-Separated Values) files in Python.\n",
    "import csv\n",
    "\n",
    "# Generate and save 10,000 records to a CSV file\n",
    "def save_records_to_csv(filename, num_records=10000):\n",
    "    # Generate one sample record to get the fieldnames\n",
    "    sample_record = generate_record()\n",
    "\n",
    "    # Write records to CSV\n",
    "    with open(filename, mode='w', newline='') as file:\n",
    "        writer = csv.DictWriter(file, fieldnames=sample_record.keys())\n",
    "        writer.writeheader()\n",
    "\n",
    "        # Generate and write all records\n",
    "        writer.writerows(generate_record() for _ in range(num_records))\n",
    "\n",
    "# Call the function to save 10,000 records\n",
    "save_records_to_csv('transaction_data.csv')"
   ]
  },
  {
   "cell_type": "code",
   "execution_count": 3,
   "id": "530304aa-631d-4430-8f9b-cbdc605d7319",
   "metadata": {},
   "outputs": [
    {
     "name": "stdout",
     "output_type": "stream",
     "text": [
      "                               Order Id                           Customer Id  \\\n",
      "0  9893ef2a-a3e8-49a9-865b-a6a5e65d529d  cd8fbd77-60ac-4a57-8809-7007cfaaf03a   \n",
      "1  9fe07613-8679-4975-acfd-a7b9426b3611  f01fe095-cabb-4472-8d81-9e63a6867a86   \n",
      "2  f5dfe05f-3116-4733-b85c-9de04e6d69f2  ee9215d2-abad-4b75-8072-c1fd02ae2616   \n",
      "3  edc2adc0-bd94-4d69-8247-a4ee2533d184  49e33d15-33ba-4167-bb7b-d4c61c9e0f65   \n",
      "4  a2f9cfe3-470f-4dc8-b46b-6f5204101378  7b91edf1-b005-48c4-9078-4a8abe5fd059   \n",
      "\n",
      "       Customer Name                            Product Id  \\\n",
      "0        Tina Thomas  e87b9479-5cf2-4d03-b938-85cf8fc03e4c   \n",
      "1       Dawn Bridges  af51211c-79c4-459e-95be-a356d520e0dc   \n",
      "2  Alexander Johnson  1bb30b02-31c3-4b42-8edc-905a8afa8f3a   \n",
      "3   Kathleen Mcguire  1ddd61d3-5601-405a-bf54-4014a1f86c51   \n",
      "4      Cindy Leonard  95b292d4-91cc-46fd-87ec-deefea61dddc   \n",
      "\n",
      "                                 Product Name Product Category  \\\n",
      "0                                      Lotion      Electronics   \n",
      "1                                      Coffee      Electronics   \n",
      "2                              Cleaning Spray      Electronics   \n",
      "3  Car Maintenance Products (e.g., motor oil)           Sports   \n",
      "4                                   Notebooks      Electronics   \n",
      "\n",
      "       Payment Type  Quantity ordered   Price  \\\n",
      "0            Wallet                 3  225.50   \n",
      "1               UPI                 5  147.49   \n",
      "2               UPI                 1  393.17   \n",
      "3              Card                 5  900.88   \n",
      "4  Internet Banking                 1   29.05   \n",
      "\n",
      "  Date and time when order was placed Customer Country Customer City  \\\n",
      "0                 2022-09-10 00:03:33              USA  East Matthew   \n",
      "1                 2020-11-27 00:53:37               UK     Alexmouth   \n",
      "2                 2022-10-07 05:35:09          Germany    Lake Jason   \n",
      "3                 2023-07-10 04:22:56           Canada   Millershire   \n",
      "4                 2024-04-10 12:40:44              USA  Oscarchester   \n",
      "\n",
      "  Site from where order was placed   Payment Transaction Confirmation Id  \\\n",
      "0                           Amazon  72f62695-699b-442b-a6de-fa1c4445af2f   \n",
      "1                             eBay  81f1f81a-8221-4909-802a-25e431a48541   \n",
      "2                          Shopify  1d4221be-5793-471c-8804-aa2c5ffa31cc   \n",
      "3                          Walmart  729770a0-8882-4abb-8fa4-60aa2600ebf4   \n",
      "4                          Walmart  84baff7c-8edb-4af0-9090-857e16b41998   \n",
      "\n",
      "  Payment Success or Failure Reason for payment failure  \n",
      "0                          Y                        NaN  \n",
      "1                          Y                        NaN  \n",
      "2                          N               Card expired  \n",
      "3                          N      Payment gateway error  \n",
      "4                          Y                        NaN  \n"
     ]
    }
   ],
   "source": [
    "# Importing the 'pandas' library with alias name pd\n",
    "import pandas as pd\n",
    "\n",
    "\n",
    "# Load CSV directly into a DataFrame and preview the first few rows\n",
    "df = pd.read_csv('transaction_data.csv', usecols=None)\n",
    "\n",
    "# Display the first few rows of the DataFrame\n",
    "print(df.head())\n"
   ]
  },
  {
   "cell_type": "code",
   "execution_count": 4,
   "id": "15778edb-44e0-42ca-8d02-4f9f537f1f56",
   "metadata": {},
   "outputs": [
    {
     "name": "stdout",
     "output_type": "stream",
     "text": [
      "<class 'pandas.core.frame.DataFrame'>\n",
      "RangeIndex: 10000 entries, 0 to 9999\n",
      "Data columns (total 16 columns):\n",
      " #   Column                               Non-Null Count  Dtype  \n",
      "---  ------                               --------------  -----  \n",
      " 0   Order Id                             10000 non-null  object \n",
      " 1   Customer Id                          10000 non-null  object \n",
      " 2   Customer Name                        10000 non-null  object \n",
      " 3   Product Id                           10000 non-null  object \n",
      " 4   Product Name                         10000 non-null  object \n",
      " 5   Product Category                     10000 non-null  object \n",
      " 6   Payment Type                         10000 non-null  object \n",
      " 7   Quantity ordered                     10000 non-null  int64  \n",
      " 8   Price                                10000 non-null  float64\n",
      " 9   Date and time when order was placed  10000 non-null  object \n",
      " 10  Customer Country                     10000 non-null  object \n",
      " 11  Customer City                        10000 non-null  object \n",
      " 12  Site from where order was placed     10000 non-null  object \n",
      " 13  Payment Transaction Confirmation Id  10000 non-null  object \n",
      " 14  Payment Success or Failure           10000 non-null  object \n",
      " 15  Reason for payment failure           3778 non-null   object \n",
      "dtypes: float64(1), int64(1), object(14)\n",
      "memory usage: 1.2+ MB\n"
     ]
    }
   ],
   "source": [
    "df.info()"
   ]
  },
  {
   "cell_type": "markdown",
   "id": "24bed90c-1062-4791-914b-d065fdb2adc1",
   "metadata": {},
   "source": [
    "Data Validation"
   ]
  },
  {
   "cell_type": "code",
   "execution_count": 5,
   "id": "d5469781-359b-4d68-b7a9-86f78d49aa54",
   "metadata": {},
   "outputs": [
    {
     "data": {
      "text/plain": [
       "<bound method DataFrame.count of                                Order Id                           Customer Id  \\\n",
       "0  9893ef2a-a3e8-49a9-865b-a6a5e65d529d  cd8fbd77-60ac-4a57-8809-7007cfaaf03a   \n",
       "1  9fe07613-8679-4975-acfd-a7b9426b3611  f01fe095-cabb-4472-8d81-9e63a6867a86   \n",
       "2  f5dfe05f-3116-4733-b85c-9de04e6d69f2  ee9215d2-abad-4b75-8072-c1fd02ae2616   \n",
       "3  edc2adc0-bd94-4d69-8247-a4ee2533d184  49e33d15-33ba-4167-bb7b-d4c61c9e0f65   \n",
       "4  a2f9cfe3-470f-4dc8-b46b-6f5204101378  7b91edf1-b005-48c4-9078-4a8abe5fd059   \n",
       "\n",
       "       Customer Name                            Product Id  \\\n",
       "0        Tina Thomas  e87b9479-5cf2-4d03-b938-85cf8fc03e4c   \n",
       "1       Dawn Bridges  af51211c-79c4-459e-95be-a356d520e0dc   \n",
       "2  Alexander Johnson  1bb30b02-31c3-4b42-8edc-905a8afa8f3a   \n",
       "3   Kathleen Mcguire  1ddd61d3-5601-405a-bf54-4014a1f86c51   \n",
       "4      Cindy Leonard  95b292d4-91cc-46fd-87ec-deefea61dddc   \n",
       "\n",
       "                                 Product Name Product Category  \\\n",
       "0                                      Lotion      Electronics   \n",
       "1                                      Coffee      Electronics   \n",
       "2                              Cleaning Spray      Electronics   \n",
       "3  Car Maintenance Products (e.g., motor oil)           Sports   \n",
       "4                                   Notebooks      Electronics   \n",
       "\n",
       "       Payment Type  Quantity ordered   Price  \\\n",
       "0            Wallet                 3  225.50   \n",
       "1               UPI                 5  147.49   \n",
       "2               UPI                 1  393.17   \n",
       "3              Card                 5  900.88   \n",
       "4  Internet Banking                 1   29.05   \n",
       "\n",
       "  Date and time when order was placed Customer Country Customer City  \\\n",
       "0                 2022-09-10 00:03:33              USA  East Matthew   \n",
       "1                 2020-11-27 00:53:37               UK     Alexmouth   \n",
       "2                 2022-10-07 05:35:09          Germany    Lake Jason   \n",
       "3                 2023-07-10 04:22:56           Canada   Millershire   \n",
       "4                 2024-04-10 12:40:44              USA  Oscarchester   \n",
       "\n",
       "  Site from where order was placed   Payment Transaction Confirmation Id  \\\n",
       "0                           Amazon  72f62695-699b-442b-a6de-fa1c4445af2f   \n",
       "1                             eBay  81f1f81a-8221-4909-802a-25e431a48541   \n",
       "2                          Shopify  1d4221be-5793-471c-8804-aa2c5ffa31cc   \n",
       "3                          Walmart  729770a0-8882-4abb-8fa4-60aa2600ebf4   \n",
       "4                          Walmart  84baff7c-8edb-4af0-9090-857e16b41998   \n",
       "\n",
       "  Payment Success or Failure Reason for payment failure  \n",
       "0                          Y                        NaN  \n",
       "1                          Y                        NaN  \n",
       "2                          N               Card expired  \n",
       "3                          N      Payment gateway error  \n",
       "4                          Y                        NaN  >"
      ]
     },
     "execution_count": 5,
     "metadata": {},
     "output_type": "execute_result"
    }
   ],
   "source": [
    "# method in pandas that returns the number of non-null values for each column in the DataFrame 'df'\n",
    "df.head().count"
   ]
  },
  {
   "cell_type": "code",
   "execution_count": 6,
   "id": "15d58641-518d-444c-83c1-ccd121c12e63",
   "metadata": {},
   "outputs": [
    {
     "name": "stdout",
     "output_type": "stream",
     "text": [
      "Missing values per column:\n",
      " Reason for payment failure    6222\n",
      "dtype: int64\n"
     ]
    }
   ],
   "source": [
    "# Check for missing values and display them\n",
    "missing_values = df.isna().sum() \n",
    "print(\"Missing values per column:\\n\", missing_values[missing_values > 0])"
   ]
  },
  {
   "cell_type": "code",
   "execution_count": 7,
   "id": "3de96d28-0f72-4496-95bf-e4bfc62ffabb",
   "metadata": {},
   "outputs": [
    {
     "name": "stdout",
     "output_type": "stream",
     "text": [
      "Missing values per column:\n",
      " Series([], dtype: int64)\n"
     ]
    }
   ],
   "source": [
    "# Replace missing values in 'Reason for payment failure' with 'No Failure'\n",
    "df['Reason for payment failure'] = df['Reason for payment failure'].fillna('No Failure')\n",
    "\n",
    "# Check for missing values again to confirm\n",
    "missing_values = df.isna().sum()\n",
    "print(\"Missing values per column:\\n\", missing_values[missing_values > 0])"
   ]
  },
  {
   "cell_type": "code",
   "execution_count": 8,
   "id": "4243a2cc-7d69-4468-87d3-1db7a16c16b2",
   "metadata": {},
   "outputs": [
    {
     "name": "stdout",
     "output_type": "stream",
     "text": [
      "Number of duplicate records: 0\n"
     ]
    }
   ],
   "source": [
    "# Check for duplicates and print the count\n",
    "print(f\"Number of duplicate records: {df.duplicated().sum()}\")"
   ]
  },
  {
   "cell_type": "markdown",
   "id": "9cfde0c6-b943-4f8d-bf6e-30c781ec83e9",
   "metadata": {},
   "source": [
    "Data analysis"
   ]
  },
  {
   "cell_type": "markdown",
   "id": "2a480f48-a4c8-422d-a219-5552f62961fe",
   "metadata": {},
   "source": [
    "1. What is the top selling category of items? Per Country?"
   ]
  },
  {
   "cell_type": "code",
   "execution_count": 9,
   "id": "9c12883e-1e4c-4a09-87b0-aaf2101a07b5",
   "metadata": {},
   "outputs": [
    {
     "name": "stdout",
     "output_type": "stream",
     "text": [
      "Customer Country  Product Category\n",
      "Canada            Books               193658.01\n",
      "                  Clothing            204536.81\n",
      "                  Electronics         198732.44\n",
      "                  Home & Kitchen      201433.42\n",
      "                  Sports              205027.15\n",
      "Germany           Books               193272.42\n",
      "                  Clothing            193901.81\n",
      "                  Electronics         189623.53\n",
      "                  Home & Kitchen      194112.39\n",
      "                  Sports              217289.32\n",
      "India             Books               215660.73\n",
      "                  Clothing            207575.69\n",
      "                  Electronics         185880.15\n",
      "                  Home & Kitchen      208786.42\n",
      "                  Sports              208300.58\n",
      "UK                Books               208087.69\n",
      "                  Clothing            198906.52\n",
      "                  Electronics         200173.47\n",
      "                  Home & Kitchen      179402.83\n",
      "                  Sports              197902.68\n",
      "USA               Books               204625.35\n",
      "                  Clothing            191734.55\n",
      "                  Electronics         206295.17\n",
      "                  Home & Kitchen      206856.74\n",
      "                  Sports              188875.87\n",
      "Name: Price, dtype: float64\n"
     ]
    }
   ],
   "source": [
    "# Ensure the 'Price' column is numeric (in case of any formatting issues)\n",
    "df['Price'] = pd.to_numeric(df['Price'], errors='coerce')\n",
    "\n",
    "# Group by 'Customer Country' and 'Product Category', and sum the 'Price'\n",
    "country_category_sales = df.groupby(['Customer Country', 'Product Category'])['Price'].sum()\n",
    "print(country_category_sales)\n"
   ]
  },
  {
   "cell_type": "code",
   "execution_count": 10,
   "id": "3e3d0b2c-839c-40e6-90fc-2e46cde60526",
   "metadata": {},
   "outputs": [
    {
     "name": "stdout",
     "output_type": "stream",
     "text": [
      "  Customer Country       Product Category  Total Sales\n",
      "0           Canada       (Canada, Sports)    205027.15\n",
      "1          Germany      (Germany, Sports)    217289.32\n",
      "2            India         (India, Books)    215660.73\n",
      "3               UK            (UK, Books)    208087.69\n",
      "4              USA  (USA, Home & Kitchen)    206856.74\n"
     ]
    }
   ],
   "source": [
    "\n",
    "# Find the top-selling category per country\n",
    "top_categories = country_category_sales.groupby(level=0).idxmax().reset_index(name='Product Category')\n",
    "\n",
    "# Retrieve the sales amount for the top-selling category\n",
    "top_categories['Total Sales'] = country_category_sales.loc[top_categories['Product Category']].values\n",
    "\n",
    "# Display the results\n",
    "print(top_categories)\n"
   ]
  },
  {
   "cell_type": "markdown",
   "id": "741ac7ed-9d1d-41cd-b9ff-30e38a3117e4",
   "metadata": {},
   "source": [
    "2. How does the popularity of products change throughout the year? Per Country?"
   ]
  },
  {
   "cell_type": "code",
   "execution_count": 12,
   "id": "5cffa973-944b-49b5-a0bb-c676ba9ee138",
   "metadata": {},
   "outputs": [
    {
     "data": {
      "text/plain": [
       "Index(['Order Id', 'Customer Id', 'Customer Name', 'Product Id',\n",
       "       'Product Name', 'Product Category', 'Payment Type', 'Quantity ordered',\n",
       "       'Price', 'Date and time when order was placed', 'Customer Country',\n",
       "       'Customer City', 'Site from where order was placed',\n",
       "       'Payment Transaction Confirmation Id', 'Payment Success or Failure',\n",
       "       'Reason for payment failure', 'Month', 'Year'],\n",
       "      dtype='object')"
      ]
     },
     "execution_count": 12,
     "metadata": {},
     "output_type": "execute_result"
    }
   ],
   "source": [
    "# Convert 'Date' column to datetime\n",
    "df['Date and time when order was placed'] = pd.to_datetime(df['Date and time when order was placed'], errors='coerce')\n",
    "\n",
    "# Extract month and year from the date\n",
    "df['Month'] = df['Date and time when order was placed'].dt.month\n",
    "df['Year'] = df['Date and time when order was placed'].dt.year\n",
    "\n",
    "df.columns"
   ]
  },
  {
   "cell_type": "code",
   "execution_count": 13,
   "id": "1418e93a-0ae2-4116-b3a8-8cdb2074791e",
   "metadata": {},
   "outputs": [
    {
     "data": {
      "text/html": [
       "<div>\n",
       "<style scoped>\n",
       "    .dataframe tbody tr th:only-of-type {\n",
       "        vertical-align: middle;\n",
       "    }\n",
       "\n",
       "    .dataframe tbody tr th {\n",
       "        vertical-align: top;\n",
       "    }\n",
       "\n",
       "    .dataframe thead th {\n",
       "        text-align: right;\n",
       "    }\n",
       "</style>\n",
       "<table border=\"1\" class=\"dataframe\">\n",
       "  <thead>\n",
       "    <tr style=\"text-align: right;\">\n",
       "      <th></th>\n",
       "      <th>Year</th>\n",
       "      <th>Month</th>\n",
       "      <th>Customer Country</th>\n",
       "      <th>Product Category</th>\n",
       "      <th>Price</th>\n",
       "    </tr>\n",
       "  </thead>\n",
       "  <tbody>\n",
       "    <tr>\n",
       "      <th>0</th>\n",
       "      <td>2020</td>\n",
       "      <td>1</td>\n",
       "      <td>Canada</td>\n",
       "      <td>Books</td>\n",
       "      <td>4536.91</td>\n",
       "    </tr>\n",
       "    <tr>\n",
       "      <th>1</th>\n",
       "      <td>2020</td>\n",
       "      <td>1</td>\n",
       "      <td>Canada</td>\n",
       "      <td>Clothing</td>\n",
       "      <td>2959.54</td>\n",
       "    </tr>\n",
       "    <tr>\n",
       "      <th>2</th>\n",
       "      <td>2020</td>\n",
       "      <td>1</td>\n",
       "      <td>Canada</td>\n",
       "      <td>Electronics</td>\n",
       "      <td>3151.07</td>\n",
       "    </tr>\n",
       "    <tr>\n",
       "      <th>3</th>\n",
       "      <td>2020</td>\n",
       "      <td>1</td>\n",
       "      <td>Canada</td>\n",
       "      <td>Home &amp; Kitchen</td>\n",
       "      <td>4075.11</td>\n",
       "    </tr>\n",
       "    <tr>\n",
       "      <th>4</th>\n",
       "      <td>2020</td>\n",
       "      <td>1</td>\n",
       "      <td>Canada</td>\n",
       "      <td>Sports</td>\n",
       "      <td>1858.66</td>\n",
       "    </tr>\n",
       "    <tr>\n",
       "      <th>...</th>\n",
       "      <td>...</td>\n",
       "      <td>...</td>\n",
       "      <td>...</td>\n",
       "      <td>...</td>\n",
       "      <td>...</td>\n",
       "    </tr>\n",
       "    <tr>\n",
       "      <th>1412</th>\n",
       "      <td>2024</td>\n",
       "      <td>9</td>\n",
       "      <td>UK</td>\n",
       "      <td>Electronics</td>\n",
       "      <td>1455.61</td>\n",
       "    </tr>\n",
       "    <tr>\n",
       "      <th>1413</th>\n",
       "      <td>2024</td>\n",
       "      <td>9</td>\n",
       "      <td>UK</td>\n",
       "      <td>Sports</td>\n",
       "      <td>1323.49</td>\n",
       "    </tr>\n",
       "    <tr>\n",
       "      <th>1414</th>\n",
       "      <td>2024</td>\n",
       "      <td>9</td>\n",
       "      <td>USA</td>\n",
       "      <td>Books</td>\n",
       "      <td>1630.45</td>\n",
       "    </tr>\n",
       "    <tr>\n",
       "      <th>1415</th>\n",
       "      <td>2024</td>\n",
       "      <td>9</td>\n",
       "      <td>USA</td>\n",
       "      <td>Electronics</td>\n",
       "      <td>560.29</td>\n",
       "    </tr>\n",
       "    <tr>\n",
       "      <th>1416</th>\n",
       "      <td>2024</td>\n",
       "      <td>9</td>\n",
       "      <td>USA</td>\n",
       "      <td>Sports</td>\n",
       "      <td>106.42</td>\n",
       "    </tr>\n",
       "  </tbody>\n",
       "</table>\n",
       "<p>1417 rows × 5 columns</p>\n",
       "</div>"
      ],
      "text/plain": [
       "      Year  Month Customer Country Product Category    Price\n",
       "0     2020      1           Canada            Books  4536.91\n",
       "1     2020      1           Canada         Clothing  2959.54\n",
       "2     2020      1           Canada      Electronics  3151.07\n",
       "3     2020      1           Canada   Home & Kitchen  4075.11\n",
       "4     2020      1           Canada           Sports  1858.66\n",
       "...    ...    ...              ...              ...      ...\n",
       "1412  2024      9               UK      Electronics  1455.61\n",
       "1413  2024      9               UK           Sports  1323.49\n",
       "1414  2024      9              USA            Books  1630.45\n",
       "1415  2024      9              USA      Electronics   560.29\n",
       "1416  2024      9              USA           Sports   106.42\n",
       "\n",
       "[1417 rows x 5 columns]"
      ]
     },
     "execution_count": 13,
     "metadata": {},
     "output_type": "execute_result"
    }
   ],
   "source": [
    "# Group by 'Year', 'Month', 'Customer Country', and 'Product Category', and sum the 'Price'\n",
    "monthly_sales = df.groupby(['Year', 'Month', 'Customer Country', 'Product Category'])['Price'].sum().reset_index()\n",
    "\n",
    "monthly_sales\n"
   ]
  },
  {
   "cell_type": "code",
   "execution_count": 14,
   "id": "b15e570b-af67-4aa3-a670-dcc2d8b50af2",
   "metadata": {},
   "outputs": [
    {
     "data": {
      "text/html": [
       "<div>\n",
       "<style scoped>\n",
       "    .dataframe tbody tr th:only-of-type {\n",
       "        vertical-align: middle;\n",
       "    }\n",
       "\n",
       "    .dataframe tbody tr th {\n",
       "        vertical-align: top;\n",
       "    }\n",
       "\n",
       "    .dataframe thead th {\n",
       "        text-align: right;\n",
       "    }\n",
       "</style>\n",
       "<table border=\"1\" class=\"dataframe\">\n",
       "  <thead>\n",
       "    <tr style=\"text-align: right;\">\n",
       "      <th></th>\n",
       "      <th>Year</th>\n",
       "      <th>Month</th>\n",
       "      <th>Customer Country</th>\n",
       "      <th>Product Category</th>\n",
       "      <th>Price</th>\n",
       "    </tr>\n",
       "  </thead>\n",
       "  <tbody>\n",
       "    <tr>\n",
       "      <th>464</th>\n",
       "      <td>2021</td>\n",
       "      <td>7</td>\n",
       "      <td>UK</td>\n",
       "      <td>Books</td>\n",
       "      <td>10881.83</td>\n",
       "    </tr>\n",
       "    <tr>\n",
       "      <th>402</th>\n",
       "      <td>2021</td>\n",
       "      <td>5</td>\n",
       "      <td>Canada</td>\n",
       "      <td>Home &amp; Kitchen</td>\n",
       "      <td>10538.38</td>\n",
       "    </tr>\n",
       "    <tr>\n",
       "      <th>89</th>\n",
       "      <td>2020</td>\n",
       "      <td>4</td>\n",
       "      <td>India</td>\n",
       "      <td>Sports</td>\n",
       "      <td>9924.12</td>\n",
       "    </tr>\n",
       "    <tr>\n",
       "      <th>509</th>\n",
       "      <td>2021</td>\n",
       "      <td>9</td>\n",
       "      <td>India</td>\n",
       "      <td>Books</td>\n",
       "      <td>9581.03</td>\n",
       "    </tr>\n",
       "    <tr>\n",
       "      <th>650</th>\n",
       "      <td>2022</td>\n",
       "      <td>3</td>\n",
       "      <td>Canada</td>\n",
       "      <td>Clothing</td>\n",
       "      <td>8374.80</td>\n",
       "    </tr>\n",
       "  </tbody>\n",
       "</table>\n",
       "</div>"
      ],
      "text/plain": [
       "     Year  Month Customer Country Product Category     Price\n",
       "464  2021      7               UK            Books  10881.83\n",
       "402  2021      5           Canada   Home & Kitchen  10538.38\n",
       "89   2020      4            India           Sports   9924.12\n",
       "509  2021      9            India            Books   9581.03\n",
       "650  2022      3           Canada         Clothing   8374.80"
      ]
     },
     "metadata": {},
     "output_type": "display_data"
    }
   ],
   "source": [
    "# Display the top rows of 'monthly_sales' sorted by 'Price' in descending order\n",
    "top_monthly_sales = monthly_sales.sort_values(by='Price', ascending=False).head()\n",
    "display(top_monthly_sales)"
   ]
  },
  {
   "cell_type": "markdown",
   "id": "2b38b45c-4ee8-4fbe-b347-c4719d1c64de",
   "metadata": {},
   "source": [
    "3. Which locations see the highest traffic of sales?"
   ]
  },
  {
   "cell_type": "code",
   "execution_count": 15,
   "id": "c1a3f2da-a70d-497c-97f1-37436d11195f",
   "metadata": {},
   "outputs": [
    {
     "name": "stdout",
     "output_type": "stream",
     "text": [
      "  Customer Country  Total Sales\n",
      "2            India   1026203.57\n",
      "0           Canada   1003387.83\n",
      "4              USA    998387.68\n",
      "1          Germany    988199.47\n",
      "3               UK    984473.19\n"
     ]
    }
   ],
   "source": [
    "import pandas as pd\n",
    "\n",
    "# Group by 'Customer Country', sum 'Price', and sort the results\n",
    "country_sales_top = (df.groupby('Customer Country')['Price']\n",
    "                     .sum()\n",
    "                     .reset_index(name='Total Sales')\n",
    "                     .sort_values(by='Total Sales', ascending=False)\n",
    "                     .head(10))\n",
    "\n",
    "print(country_sales_top)\n"
   ]
  },
  {
   "cell_type": "markdown",
   "id": "27414cf7-ed39-437b-9729-f74036a7e5fd",
   "metadata": {},
   "source": [
    "4. What times have the highest traffic of sales? Per Country?"
   ]
  },
  {
   "cell_type": "code",
   "execution_count": 16,
   "id": "baca1159-24d1-4400-b7ff-55e47eaea996",
   "metadata": {},
   "outputs": [
    {
     "data": {
      "text/html": [
       "<div>\n",
       "<style scoped>\n",
       "    .dataframe tbody tr th:only-of-type {\n",
       "        vertical-align: middle;\n",
       "    }\n",
       "\n",
       "    .dataframe tbody tr th {\n",
       "        vertical-align: top;\n",
       "    }\n",
       "\n",
       "    .dataframe thead th {\n",
       "        text-align: right;\n",
       "    }\n",
       "</style>\n",
       "<table border=\"1\" class=\"dataframe\">\n",
       "  <thead>\n",
       "    <tr style=\"text-align: right;\">\n",
       "      <th></th>\n",
       "      <th>Customer Country</th>\n",
       "      <th>Hour</th>\n",
       "      <th>Total Sales</th>\n",
       "    </tr>\n",
       "  </thead>\n",
       "  <tbody>\n",
       "    <tr>\n",
       "      <th>0</th>\n",
       "      <td>Canada</td>\n",
       "      <td>0</td>\n",
       "      <td>41482.63</td>\n",
       "    </tr>\n",
       "    <tr>\n",
       "      <th>1</th>\n",
       "      <td>Canada</td>\n",
       "      <td>1</td>\n",
       "      <td>46272.03</td>\n",
       "    </tr>\n",
       "    <tr>\n",
       "      <th>2</th>\n",
       "      <td>Canada</td>\n",
       "      <td>2</td>\n",
       "      <td>44269.72</td>\n",
       "    </tr>\n",
       "    <tr>\n",
       "      <th>3</th>\n",
       "      <td>Canada</td>\n",
       "      <td>3</td>\n",
       "      <td>36205.50</td>\n",
       "    </tr>\n",
       "    <tr>\n",
       "      <th>4</th>\n",
       "      <td>Canada</td>\n",
       "      <td>4</td>\n",
       "      <td>44067.74</td>\n",
       "    </tr>\n",
       "  </tbody>\n",
       "</table>\n",
       "</div>"
      ],
      "text/plain": [
       "  Customer Country  Hour  Total Sales\n",
       "0           Canada     0     41482.63\n",
       "1           Canada     1     46272.03\n",
       "2           Canada     2     44269.72\n",
       "3           Canada     3     36205.50\n",
       "4           Canada     4     44067.74"
      ]
     },
     "execution_count": 16,
     "metadata": {},
     "output_type": "execute_result"
    }
   ],
   "source": [
    "# Extract the hour from the 'Date and time when order was placed'\n",
    "df['Hour'] = df['Date and time when order was placed'].dt.hour\n",
    "\n",
    "# Calculate total sales per country and hour\n",
    "hourly_sales = df.groupby(['Customer Country', 'Hour'])['Price'].sum().reset_index(name='Total Sales')\n",
    "\n",
    "# Display the top rows of the resulting DataFrame\n",
    "hourly_sales.head()\n"
   ]
  },
  {
   "cell_type": "code",
   "execution_count": 17,
   "id": "3ebdcfe3-f422-4cda-8eda-30cddc7e593d",
   "metadata": {},
   "outputs": [
    {
     "data": {
      "text/html": [
       "<div>\n",
       "<style scoped>\n",
       "    .dataframe tbody tr th:only-of-type {\n",
       "        vertical-align: middle;\n",
       "    }\n",
       "\n",
       "    .dataframe tbody tr th {\n",
       "        vertical-align: top;\n",
       "    }\n",
       "\n",
       "    .dataframe thead th {\n",
       "        text-align: right;\n",
       "    }\n",
       "</style>\n",
       "<table border=\"1\" class=\"dataframe\">\n",
       "  <thead>\n",
       "    <tr style=\"text-align: right;\">\n",
       "      <th></th>\n",
       "      <th>Customer Country</th>\n",
       "      <th>Hour</th>\n",
       "      <th>Total Sales</th>\n",
       "    </tr>\n",
       "  </thead>\n",
       "  <tbody>\n",
       "    <tr>\n",
       "      <th>7</th>\n",
       "      <td>Canada</td>\n",
       "      <td>7</td>\n",
       "      <td>48778.14</td>\n",
       "    </tr>\n",
       "    <tr>\n",
       "      <th>15</th>\n",
       "      <td>Canada</td>\n",
       "      <td>15</td>\n",
       "      <td>46714.06</td>\n",
       "    </tr>\n",
       "    <tr>\n",
       "      <th>6</th>\n",
       "      <td>Canada</td>\n",
       "      <td>6</td>\n",
       "      <td>46625.30</td>\n",
       "    </tr>\n",
       "    <tr>\n",
       "      <th>1</th>\n",
       "      <td>Canada</td>\n",
       "      <td>1</td>\n",
       "      <td>46272.03</td>\n",
       "    </tr>\n",
       "    <tr>\n",
       "      <th>12</th>\n",
       "      <td>Canada</td>\n",
       "      <td>12</td>\n",
       "      <td>45078.29</td>\n",
       "    </tr>\n",
       "  </tbody>\n",
       "</table>\n",
       "</div>"
      ],
      "text/plain": [
       "   Customer Country  Hour  Total Sales\n",
       "7            Canada     7     48778.14\n",
       "15           Canada    15     46714.06\n",
       "6            Canada     6     46625.30\n",
       "1            Canada     1     46272.03\n",
       "12           Canada    12     45078.29"
      ]
     },
     "execution_count": 17,
     "metadata": {},
     "output_type": "execute_result"
    }
   ],
   "source": [
    "# Sort by 'Customer Country' and 'Total Sales' in descending order\n",
    "hourly_sales_sorted = hourly_sales.sort_values(by=['Customer Country', 'Total Sales'], ascending=[True, False])\n",
    "\n",
    "# Display the sorted DataFrame\n",
    "hourly_sales_sorted.head()\n"
   ]
  },
  {
   "cell_type": "code",
   "execution_count": null,
   "id": "a7a0b0af-bb6a-4079-bec1-4071317ef5e6",
   "metadata": {},
   "outputs": [],
   "source": []
  }
 ],
 "metadata": {
  "kernelspec": {
   "display_name": "Python 3 (ipykernel)",
   "language": "python",
   "name": "python3"
  },
  "language_info": {
   "codemirror_mode": {
    "name": "ipython",
    "version": 3
   },
   "file_extension": ".py",
   "mimetype": "text/x-python",
   "name": "python",
   "nbconvert_exporter": "python",
   "pygments_lexer": "ipython3",
   "version": "3.10.1"
  }
 },
 "nbformat": 4,
 "nbformat_minor": 5
}
