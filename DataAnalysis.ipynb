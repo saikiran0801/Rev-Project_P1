{
 "cells": [
  {
   "cell_type": "markdown",
   "id": "1f47ba68-e50d-48cd-8cdf-b764bd173dcd",
   "metadata": {},
   "source": [
    "Data Generation"
   ]
  },
  {
   "cell_type": "code",
   "execution_count": 1,
   "id": "9f221549-9904-4b17-a831-925cf724ae21",
   "metadata": {},
   "outputs": [],
   "source": [
    "# Importing the 'random' module, which provides functions to generate random numbers, shuffle data, and make random selections.\n",
    "import random\n",
    "\n",
    "# Importing the 'Faker' class from the 'faker' library, which allows the generation of fake data such as names, addresses, emails, and more.\n",
    "from faker import Faker\n",
    "\n",
    "# Initialize Faker instance\n",
    "fake = Faker()\n",
    "\n",
    "# Predefined data\n",
    "data = {\n",
    "    'payment_types': ['Card', 'Internet Banking', 'UPI', 'Wallet'],\n",
    "    'countries': ['USA', 'UK', 'Germany', 'India', 'Canada'],\n",
    "    'categories': ['Electronics', 'Clothing', 'Home & Kitchen', 'Books', 'Sports'],\n",
    "    'sites': ['Amazon', 'eBay', 'Flipkart', 'Walmart', 'Shopify'],\n",
    "    'payment_status': ['Y', 'N'],\n",
    "    'failure_reasons': ['Insufficient funds', 'Payment gateway error', 'Card expired', None],\n",
    "    'product_name': [\n",
    "        \"Milk\", \"Bread\", \"Coffee\", \"Eggs\", \"Juice\", \"Toothpaste\", \"Shampoo\", \"Soap\", \"Deodorant\", \n",
    "        \"Lotion\", \"Detergent\", \"Trash Bags\", \"Paper Towels\", \"Cleaning Spray\", \"Light Bulbs\", \n",
    "        \"Smartphones\", \"Laptops\", \"Headphones\", \"Chargers\", \"Batteries\", \"Gasoline\",\n",
    "        \"Car Maintenance Products (e.g., motor oil)\", \"Public Transport Cards\", \"Pens\", \"Notebooks\",\n",
    "        \"Printer Paper\", \"Sticky Notes\", \"Stapler\", \"Hand Sanitizer\", \"Tissues\", \"Aluminum Foil\",\n",
    "        # Additional product names here...\n",
    "    ]\n",
    "}\n",
    "\n",
    "# Function to generate a single record\n",
    "def generate_record():\n",
    "    payment_success = random.choice(data['payment_status'])\n",
    "    return {\n",
    "        'Order Id': fake.uuid4(),\n",
    "        'Customer Id': fake.uuid4(),\n",
    "        'Customer Name': fake.name(),\n",
    "        'Product Id': fake.uuid4(),\n",
    "        'Product Name': random.choice(data['product_name']),\n",
    "        'Product Category': random.choice(data['categories']),\n",
    "        'Payment Type': random.choice(data['payment_types']),\n",
    "        'Quantity ordered': random.randint(1, 5),\n",
    "        'Price': round(random.uniform(10, 1000), 2),\n",
    "        'Date and time when order was placed': fake.date_time_this_decade(),\n",
    "        'Customer Country': random.choice(data['countries']),\n",
    "        'Customer City': fake.city(),\n",
    "        'Site from where order was placed': random.choice(data['sites']),\n",
    "        'Payment Transaction Confirmation Id': fake.uuid4(),\n",
    "        'Payment Success or Failure': payment_success,\n",
    "        'Reason for payment failure': random.choice(data['failure_reasons']) if payment_success == 'N' else None\n",
    "    } "
   ]
  },
  {
   "cell_type": "code",
   "execution_count": 2,
   "id": "c306ba6e-0c07-4bb6-9d6e-44f5ba08fb37",
   "metadata": {},
   "outputs": [],
   "source": [
    "# Importing the 'csv' module, which provides functionality to read from and write to CSV (Comma-Separated Values) files in Python.\n",
    "import csv\n",
    "\n",
    "# Generate and save 10,000 records to a CSV file\n",
    "def save_records_to_csv(filename, num_records=10000):\n",
    "    # Generate one sample record to get the fieldnames\n",
    "    sample_record = generate_record()\n",
    "\n",
    "    # Write records to CSV\n",
    "    with open(filename, mode='w', newline='') as file:\n",
    "        writer = csv.DictWriter(file, fieldnames=sample_record.keys())\n",
    "        writer.writeheader()\n",
    "\n",
    "        # Generate and write all records\n",
    "        writer.writerows(generate_record() for _ in range(num_records))\n",
    "\n",
    "# Call the function to save 10,000 records\n",
    "save_records_to_csv('transaction_data.csv')"
   ]
  },
  {
   "cell_type": "code",
   "execution_count": 3,
   "id": "530304aa-631d-4430-8f9b-cbdc605d7319",
   "metadata": {},
   "outputs": [
    {
     "name": "stdout",
     "output_type": "stream",
     "text": [
      "                               Order Id                           Customer Id  \\\n",
      "0  9893ef2a-a3e8-49a9-865b-a6a5e65d529d  cd8fbd77-60ac-4a57-8809-7007cfaaf03a   \n",
      "1  9fe07613-8679-4975-acfd-a7b9426b3611  f01fe095-cabb-4472-8d81-9e63a6867a86   \n",
      "2  f5dfe05f-3116-4733-b85c-9de04e6d69f2  ee9215d2-abad-4b75-8072-c1fd02ae2616   \n",
      "3  edc2adc0-bd94-4d69-8247-a4ee2533d184  49e33d15-33ba-4167-bb7b-d4c61c9e0f65   \n",
      "4  a2f9cfe3-470f-4dc8-b46b-6f5204101378  7b91edf1-b005-48c4-9078-4a8abe5fd059   \n",
      "\n",
      "       Customer Name                            Product Id  \\\n",
      "0        Tina Thomas  e87b9479-5cf2-4d03-b938-85cf8fc03e4c   \n",
      "1       Dawn Bridges  af51211c-79c4-459e-95be-a356d520e0dc   \n",
      "2  Alexander Johnson  1bb30b02-31c3-4b42-8edc-905a8afa8f3a   \n",
      "3   Kathleen Mcguire  1ddd61d3-5601-405a-bf54-4014a1f86c51   \n",
      "4      Cindy Leonard  95b292d4-91cc-46fd-87ec-deefea61dddc   \n",
      "\n",
      "                                 Product Name Product Category  \\\n",
      "0                                      Lotion      Electronics   \n",
      "1                                      Coffee      Electronics   \n",
      "2                              Cleaning Spray      Electronics   \n",
      "3  Car Maintenance Products (e.g., motor oil)           Sports   \n",
      "4                                   Notebooks      Electronics   \n",
      "\n",
      "       Payment Type  Quantity ordered   Price  \\\n",
      "0            Wallet                 3  225.50   \n",
      "1               UPI                 5  147.49   \n",
      "2               UPI                 1  393.17   \n",
      "3              Card                 5  900.88   \n",
      "4  Internet Banking                 1   29.05   \n",
      "\n",
      "  Date and time when order was placed Customer Country Customer City  \\\n",
      "0                 2022-09-10 00:03:33              USA  East Matthew   \n",
      "1                 2020-11-27 00:53:37               UK     Alexmouth   \n",
      "2                 2022-10-07 05:35:09          Germany    Lake Jason   \n",
      "3                 2023-07-10 04:22:56           Canada   Millershire   \n",
      "4                 2024-04-10 12:40:44              USA  Oscarchester   \n",
      "\n",
      "  Site from where order was placed   Payment Transaction Confirmation Id  \\\n",
      "0                           Amazon  72f62695-699b-442b-a6de-fa1c4445af2f   \n",
      "1                             eBay  81f1f81a-8221-4909-802a-25e431a48541   \n",
      "2                          Shopify  1d4221be-5793-471c-8804-aa2c5ffa31cc   \n",
      "3                          Walmart  729770a0-8882-4abb-8fa4-60aa2600ebf4   \n",
      "4                          Walmart  84baff7c-8edb-4af0-9090-857e16b41998   \n",
      "\n",
      "  Payment Success or Failure Reason for payment failure  \n",
      "0                          Y                        NaN  \n",
      "1                          Y                        NaN  \n",
      "2                          N               Card expired  \n",
      "3                          N      Payment gateway error  \n",
      "4                          Y                        NaN  \n"
     ]
    }
   ],
   "source": [
    "# Importing the 'pandas' library with alias name pd\n",
    "import pandas as pd\n",
    "\n",
    "\n",
    "# Load CSV directly into a DataFrame and preview the first few rows\n",
    "df = pd.read_csv('transaction_data.csv', usecols=None)\n",
    "\n",
    "# Display the first few rows of the DataFrame\n",
    "print(df.head())\n"
   ]
  },
  {
   "cell_type": "code",
   "execution_count": 4,
   "id": "15778edb-44e0-42ca-8d02-4f9f537f1f56",
   "metadata": {},
   "outputs": [
    {
     "name": "stdout",
     "output_type": "stream",
     "text": [
      "<class 'pandas.core.frame.DataFrame'>\n",
      "RangeIndex: 10000 entries, 0 to 9999\n",
      "Data columns (total 16 columns):\n",
      " #   Column                               Non-Null Count  Dtype  \n",
      "---  ------                               --------------  -----  \n",
      " 0   Order Id                             10000 non-null  object \n",
      " 1   Customer Id                          10000 non-null  object \n",
      " 2   Customer Name                        10000 non-null  object \n",
      " 3   Product Id                           10000 non-null  object \n",
      " 4   Product Name                         10000 non-null  object \n",
      " 5   Product Category                     10000 non-null  object \n",
      " 6   Payment Type                         10000 non-null  object \n",
      " 7   Quantity ordered                     10000 non-null  int64  \n",
      " 8   Price                                10000 non-null  float64\n",
      " 9   Date and time when order was placed  10000 non-null  object \n",
      " 10  Customer Country                     10000 non-null  object \n",
      " 11  Customer City                        10000 non-null  object \n",
      " 12  Site from where order was placed     10000 non-null  object \n",
      " 13  Payment Transaction Confirmation Id  10000 non-null  object \n",
      " 14  Payment Success or Failure           10000 non-null  object \n",
      " 15  Reason for payment failure           3778 non-null   object \n",
      "dtypes: float64(1), int64(1), object(14)\n",
      "memory usage: 1.2+ MB\n"
     ]
    }
   ],
   "source": [
    "df.info()"
   ]
  },
  {
   "cell_type": "code",
   "execution_count": null,
   "id": "69606df5-d5a2-43eb-a8c0-0784c8abd4ea",
   "metadata": {},
   "outputs": [],
   "source": []
  }
 ],
 "metadata": {
  "kernelspec": {
   "display_name": "Python 3 (ipykernel)",
   "language": "python",
   "name": "python3"
  },
  "language_info": {
   "codemirror_mode": {
    "name": "ipython",
    "version": 3
   },
   "file_extension": ".py",
   "mimetype": "text/x-python",
   "name": "python",
   "nbconvert_exporter": "python",
   "pygments_lexer": "ipython3",
   "version": "3.10.1"
  }
 },
 "nbformat": 4,
 "nbformat_minor": 5
}
